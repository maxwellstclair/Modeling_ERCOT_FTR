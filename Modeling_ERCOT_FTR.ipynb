{
 "cells": [
  {
   "cell_type": "markdown",
   "id": "bd6a2e5a-226b-449f-ac13-03bf0caa147e",
   "metadata": {},
   "source": [
    "# Modeling ERCOT FTR Prices\n",
    "Given:\n",
    "* Hourly ERCOT FTR contract values for unspecified nodes from 2019 to October 2021 \n",
    "* Corresponding hourly zonal load and wind data, as well as line ratings\n",
    "\n",
    "Task:\n",
    "* Attempt to find any relationships in the data and interpret the findings \n",
    "* Deliver estimated hourly contract values for the month of November 2021\n"
   ]
  },
  {
   "cell_type": "code",
   "execution_count": 1,
   "id": "0456c044-a1b2-478b-8a59-3982a8009502",
   "metadata": {},
   "outputs": [],
   "source": [
    "import pandas as pd\n",
    "import numpy as np\n",
    "import matplotlib.pyplot as plt\n",
    "import seaborn as sns"
   ]
  },
  {
   "cell_type": "markdown",
   "id": "2665e02f-08c5-4aae-9b99-279378b39ccb",
   "metadata": {},
   "source": [
    "#### Load the datasets"
   ]
  },
  {
   "cell_type": "code",
   "execution_count": 3,
   "id": "1478ad59-7114-4b9f-9aec-90f99ed09987",
   "metadata": {},
   "outputs": [
    {
     "data": {
      "text/html": [
       "<div>\n",
       "<style scoped>\n",
       "    .dataframe tbody tr th:only-of-type {\n",
       "        vertical-align: middle;\n",
       "    }\n",
       "\n",
       "    .dataframe tbody tr th {\n",
       "        vertical-align: top;\n",
       "    }\n",
       "\n",
       "    .dataframe thead th {\n",
       "        text-align: right;\n",
       "    }\n",
       "</style>\n",
       "<table border=\"1\" class=\"dataframe\">\n",
       "  <thead>\n",
       "    <tr style=\"text-align: right;\">\n",
       "      <th></th>\n",
       "      <th>date</th>\n",
       "      <th>hour_beginning</th>\n",
       "      <th>contract_value</th>\n",
       "      <th>label</th>\n",
       "    </tr>\n",
       "  </thead>\n",
       "  <tbody>\n",
       "    <tr>\n",
       "      <th>0</th>\n",
       "      <td>4/5/19</td>\n",
       "      <td>0</td>\n",
       "      <td>-0.0350</td>\n",
       "      <td>actual</td>\n",
       "    </tr>\n",
       "    <tr>\n",
       "      <th>1</th>\n",
       "      <td>4/5/19</td>\n",
       "      <td>1</td>\n",
       "      <td>0.1325</td>\n",
       "      <td>actual</td>\n",
       "    </tr>\n",
       "  </tbody>\n",
       "</table>\n",
       "</div>"
      ],
      "text/plain": [
       "     date  hour_beginning  contract_value   label\n",
       "0  4/5/19               0         -0.0350  actual\n",
       "1  4/5/19               1          0.1325  actual"
      ]
     },
     "execution_count": 3,
     "metadata": {},
     "output_type": "execute_result"
    }
   ],
   "source": [
    "df_contract = pd.read_csv('Problem 3/contract_data.csv')\n",
    "df_line_rating = pd.read_csv('Problem 3/line_ratings.csv')\n",
    "df_load = pd.read_csv('Problem 3/load.csv')\n",
    "df_wind = pd.read_csv('Problem 3/wind.csv')\n",
    "\n",
    "df_contract.head(2)"
   ]
  },
  {
   "cell_type": "code",
   "execution_count": 5,
   "id": "b0a8baa5-34f3-42e2-b722-60238acd34a2",
   "metadata": {},
   "outputs": [
    {
     "data": {
      "text/html": [
       "<div>\n",
       "<style scoped>\n",
       "    .dataframe tbody tr th:only-of-type {\n",
       "        vertical-align: middle;\n",
       "    }\n",
       "\n",
       "    .dataframe tbody tr th {\n",
       "        vertical-align: top;\n",
       "    }\n",
       "\n",
       "    .dataframe thead th {\n",
       "        text-align: right;\n",
       "    }\n",
       "</style>\n",
       "<table border=\"1\" class=\"dataframe\">\n",
       "  <thead>\n",
       "    <tr style=\"text-align: right;\">\n",
       "      <th></th>\n",
       "      <th>date</th>\n",
       "      <th>hour_beginning</th>\n",
       "      <th>VALLEY</th>\n",
       "      <th>BEARKAT</th>\n",
       "      <th>TREADWELL</th>\n",
       "      <th>MCCAMEY</th>\n",
       "      <th>NORTH.TO.HOUSTON</th>\n",
       "      <th>PANHANDLE</th>\n",
       "      <th>label</th>\n",
       "    </tr>\n",
       "  </thead>\n",
       "  <tbody>\n",
       "    <tr>\n",
       "      <th>0</th>\n",
       "      <td>2019-04-05</td>\n",
       "      <td>0</td>\n",
       "      <td>2556.0</td>\n",
       "      <td>NaN</td>\n",
       "      <td>9999</td>\n",
       "      <td>9999</td>\n",
       "      <td>4531</td>\n",
       "      <td>3531</td>\n",
       "      <td>actual</td>\n",
       "    </tr>\n",
       "    <tr>\n",
       "      <th>1</th>\n",
       "      <td>2019-04-05</td>\n",
       "      <td>1</td>\n",
       "      <td>2529.0</td>\n",
       "      <td>NaN</td>\n",
       "      <td>9999</td>\n",
       "      <td>9999</td>\n",
       "      <td>4414</td>\n",
       "      <td>3530</td>\n",
       "      <td>actual</td>\n",
       "    </tr>\n",
       "  </tbody>\n",
       "</table>\n",
       "</div>"
      ],
      "text/plain": [
       "         date  hour_beginning  VALLEY  BEARKAT  TREADWELL  MCCAMEY  \\\n",
       "0  2019-04-05               0  2556.0      NaN       9999     9999   \n",
       "1  2019-04-05               1  2529.0      NaN       9999     9999   \n",
       "\n",
       "   NORTH.TO.HOUSTON  PANHANDLE   label  \n",
       "0              4531       3531  actual  \n",
       "1              4414       3530  actual  "
      ]
     },
     "execution_count": 5,
     "metadata": {},
     "output_type": "execute_result"
    }
   ],
   "source": [
    "df_line_rating.head(2)"
   ]
  },
  {
   "cell_type": "code",
   "execution_count": 7,
   "id": "16b94ba7-6a01-4aab-9c56-6a0d6f7e3af0",
   "metadata": {},
   "outputs": [
    {
     "data": {
      "text/html": [
       "<div>\n",
       "<style scoped>\n",
       "    .dataframe tbody tr th:only-of-type {\n",
       "        vertical-align: middle;\n",
       "    }\n",
       "\n",
       "    .dataframe tbody tr th {\n",
       "        vertical-align: top;\n",
       "    }\n",
       "\n",
       "    .dataframe thead th {\n",
       "        text-align: right;\n",
       "    }\n",
       "</style>\n",
       "<table border=\"1\" class=\"dataframe\">\n",
       "  <thead>\n",
       "    <tr style=\"text-align: right;\">\n",
       "      <th></th>\n",
       "      <th>date</th>\n",
       "      <th>hour_beginning</th>\n",
       "      <th>coast</th>\n",
       "      <th>east</th>\n",
       "      <th>farwest</th>\n",
       "      <th>north</th>\n",
       "      <th>northcentral</th>\n",
       "      <th>southcentral</th>\n",
       "      <th>southern</th>\n",
       "      <th>west</th>\n",
       "      <th>all</th>\n",
       "      <th>label</th>\n",
       "    </tr>\n",
       "  </thead>\n",
       "  <tbody>\n",
       "    <tr>\n",
       "      <th>0</th>\n",
       "      <td>2019-04-05</td>\n",
       "      <td>0</td>\n",
       "      <td>9695.17</td>\n",
       "      <td>1210.05</td>\n",
       "      <td>2976.90</td>\n",
       "      <td>763.80</td>\n",
       "      <td>9192.58</td>\n",
       "      <td>5191.90</td>\n",
       "      <td>2597.92</td>\n",
       "      <td>1238.97</td>\n",
       "      <td>32867.29</td>\n",
       "      <td>actual</td>\n",
       "    </tr>\n",
       "    <tr>\n",
       "      <th>1</th>\n",
       "      <td>2019-04-05</td>\n",
       "      <td>1</td>\n",
       "      <td>9281.53</td>\n",
       "      <td>1161.04</td>\n",
       "      <td>2977.81</td>\n",
       "      <td>735.19</td>\n",
       "      <td>8682.21</td>\n",
       "      <td>4799.37</td>\n",
       "      <td>2439.54</td>\n",
       "      <td>1184.93</td>\n",
       "      <td>31261.60</td>\n",
       "      <td>actual</td>\n",
       "    </tr>\n",
       "  </tbody>\n",
       "</table>\n",
       "</div>"
      ],
      "text/plain": [
       "         date  hour_beginning    coast     east  farwest   north  \\\n",
       "0  2019-04-05               0  9695.17  1210.05  2976.90  763.80   \n",
       "1  2019-04-05               1  9281.53  1161.04  2977.81  735.19   \n",
       "\n",
       "   northcentral  southcentral  southern     west       all   label  \n",
       "0       9192.58       5191.90   2597.92  1238.97  32867.29  actual  \n",
       "1       8682.21       4799.37   2439.54  1184.93  31261.60  actual  "
      ]
     },
     "execution_count": 7,
     "metadata": {},
     "output_type": "execute_result"
    }
   ],
   "source": [
    "df_load.head(2)"
   ]
  },
  {
   "cell_type": "code",
   "execution_count": 9,
   "id": "2a73f1d1-87c7-463b-913c-8423ca3bdd4c",
   "metadata": {},
   "outputs": [
    {
     "data": {
      "text/html": [
       "<div>\n",
       "<style scoped>\n",
       "    .dataframe tbody tr th:only-of-type {\n",
       "        vertical-align: middle;\n",
       "    }\n",
       "\n",
       "    .dataframe tbody tr th {\n",
       "        vertical-align: top;\n",
       "    }\n",
       "\n",
       "    .dataframe thead th {\n",
       "        text-align: right;\n",
       "    }\n",
       "</style>\n",
       "<table border=\"1\" class=\"dataframe\">\n",
       "  <thead>\n",
       "    <tr style=\"text-align: right;\">\n",
       "      <th></th>\n",
       "      <th>date</th>\n",
       "      <th>hour_beginning</th>\n",
       "      <th>coastal</th>\n",
       "      <th>lz_north</th>\n",
       "      <th>lz_south_houston</th>\n",
       "      <th>lz_west</th>\n",
       "      <th>north</th>\n",
       "      <th>panhandle</th>\n",
       "      <th>south</th>\n",
       "      <th>south_houston</th>\n",
       "      <th>west</th>\n",
       "      <th>west_north</th>\n",
       "      <th>all</th>\n",
       "    </tr>\n",
       "  </thead>\n",
       "  <tbody>\n",
       "    <tr>\n",
       "      <th>0</th>\n",
       "      <td>4/5/19</td>\n",
       "      <td>0</td>\n",
       "      <td>185.71</td>\n",
       "      <td>366.14</td>\n",
       "      <td>1138.44</td>\n",
       "      <td>7780.36</td>\n",
       "      <td>400.56</td>\n",
       "      <td>3301.54</td>\n",
       "      <td>1011.69</td>\n",
       "      <td>1138.44</td>\n",
       "      <td>4385.44</td>\n",
       "      <td>8146.50</td>\n",
       "      <td>9284.94</td>\n",
       "    </tr>\n",
       "    <tr>\n",
       "      <th>1</th>\n",
       "      <td>4/5/19</td>\n",
       "      <td>1</td>\n",
       "      <td>122.50</td>\n",
       "      <td>409.77</td>\n",
       "      <td>1270.77</td>\n",
       "      <td>8150.21</td>\n",
       "      <td>451.02</td>\n",
       "      <td>3252.51</td>\n",
       "      <td>1160.07</td>\n",
       "      <td>1270.77</td>\n",
       "      <td>4844.66</td>\n",
       "      <td>8559.98</td>\n",
       "      <td>9830.75</td>\n",
       "    </tr>\n",
       "  </tbody>\n",
       "</table>\n",
       "</div>"
      ],
      "text/plain": [
       "     date  hour_beginning  coastal  lz_north  lz_south_houston  lz_west  \\\n",
       "0  4/5/19               0   185.71    366.14           1138.44  7780.36   \n",
       "1  4/5/19               1   122.50    409.77           1270.77  8150.21   \n",
       "\n",
       "    north  panhandle    south  south_houston     west  west_north      all  \n",
       "0  400.56    3301.54  1011.69        1138.44  4385.44     8146.50  9284.94  \n",
       "1  451.02    3252.51  1160.07        1270.77  4844.66     8559.98  9830.75  "
      ]
     },
     "execution_count": 9,
     "metadata": {},
     "output_type": "execute_result"
    }
   ],
   "source": [
    "df_wind.head(2)"
   ]
  },
  {
   "cell_type": "markdown",
   "id": "1b51097e-00dc-4de6-9737-d1206649f7d7",
   "metadata": {},
   "source": [
    "### Standardize the date formatting, create a datetime_key to merge over "
   ]
  },
  {
   "cell_type": "code",
   "execution_count": 11,
   "id": "9292ae79-1d74-4cd1-802b-62f442712e80",
   "metadata": {},
   "outputs": [
    {
     "data": {
      "text/html": [
       "<div>\n",
       "<style scoped>\n",
       "    .dataframe tbody tr th:only-of-type {\n",
       "        vertical-align: middle;\n",
       "    }\n",
       "\n",
       "    .dataframe tbody tr th {\n",
       "        vertical-align: top;\n",
       "    }\n",
       "\n",
       "    .dataframe thead th {\n",
       "        text-align: right;\n",
       "    }\n",
       "</style>\n",
       "<table border=\"1\" class=\"dataframe\">\n",
       "  <thead>\n",
       "    <tr style=\"text-align: right;\">\n",
       "      <th></th>\n",
       "      <th>date_wind</th>\n",
       "      <th>hour_beginning_wind</th>\n",
       "      <th>coastal_wind</th>\n",
       "      <th>lz_north_wind</th>\n",
       "      <th>lz_south_houston_wind</th>\n",
       "      <th>lz_west_wind</th>\n",
       "      <th>north_wind</th>\n",
       "      <th>panhandle_wind</th>\n",
       "      <th>south_wind</th>\n",
       "      <th>south_houston_wind</th>\n",
       "      <th>west_wind</th>\n",
       "      <th>west_north_wind</th>\n",
       "      <th>all_wind</th>\n",
       "      <th>datetime_key</th>\n",
       "    </tr>\n",
       "  </thead>\n",
       "  <tbody>\n",
       "    <tr>\n",
       "      <th>0</th>\n",
       "      <td>2019-04-05</td>\n",
       "      <td>0</td>\n",
       "      <td>185.71</td>\n",
       "      <td>366.14</td>\n",
       "      <td>1138.44</td>\n",
       "      <td>7780.36</td>\n",
       "      <td>400.56</td>\n",
       "      <td>3301.54</td>\n",
       "      <td>1011.69</td>\n",
       "      <td>1138.44</td>\n",
       "      <td>4385.44</td>\n",
       "      <td>8146.50</td>\n",
       "      <td>9284.94</td>\n",
       "      <td>2019-04-05_00</td>\n",
       "    </tr>\n",
       "    <tr>\n",
       "      <th>1</th>\n",
       "      <td>2019-04-05</td>\n",
       "      <td>1</td>\n",
       "      <td>122.50</td>\n",
       "      <td>409.77</td>\n",
       "      <td>1270.77</td>\n",
       "      <td>8150.21</td>\n",
       "      <td>451.02</td>\n",
       "      <td>3252.51</td>\n",
       "      <td>1160.07</td>\n",
       "      <td>1270.77</td>\n",
       "      <td>4844.66</td>\n",
       "      <td>8559.98</td>\n",
       "      <td>9830.75</td>\n",
       "      <td>2019-04-05_01</td>\n",
       "    </tr>\n",
       "  </tbody>\n",
       "</table>\n",
       "</div>"
      ],
      "text/plain": [
       "   date_wind  hour_beginning_wind  coastal_wind  lz_north_wind  \\\n",
       "0 2019-04-05                    0        185.71         366.14   \n",
       "1 2019-04-05                    1        122.50         409.77   \n",
       "\n",
       "   lz_south_houston_wind  lz_west_wind  north_wind  panhandle_wind  \\\n",
       "0                1138.44       7780.36      400.56         3301.54   \n",
       "1                1270.77       8150.21      451.02         3252.51   \n",
       "\n",
       "   south_wind  south_houston_wind  west_wind  west_north_wind  all_wind  \\\n",
       "0     1011.69             1138.44    4385.44          8146.50   9284.94   \n",
       "1     1160.07             1270.77    4844.66          8559.98   9830.75   \n",
       "\n",
       "    datetime_key  \n",
       "0  2019-04-05_00  \n",
       "1  2019-04-05_01  "
      ]
     },
     "execution_count": 11,
     "metadata": {},
     "output_type": "execute_result"
    }
   ],
   "source": [
    "# Standardize date formats in all datasets to YYYY-MM-DD\n",
    "\n",
    "# For wind and contract, date format is MM/DD/YY\n",
    "df_wind['date'] = pd.to_datetime(df_wind['date'], format='%m/%d/%y')\n",
    "df_contract['date'] = pd.to_datetime(df_contract['date'], format='%m/%d/%y')\n",
    "\n",
    "# For load and line_rating, date format is YYYY-MM-DD\n",
    "df_load['date'] = pd.to_datetime(df_load['date'], format='%Y-%m-%d')\n",
    "df_line_rating['date'] = pd.to_datetime(df_line_rating['date'], format='%Y-%m-%d')\n",
    "\n",
    "# Create a unique datetime_key by concatenating date and hour_beginning in each dataset\n",
    "for df in [df_contract, df_line_rating, df_load, df_wind]:\n",
    "    df['datetime_key'] = df['date'].dt.strftime('%Y-%m-%d') + '_' + df['hour_beginning'].astype(str).str.zfill(2)\n",
    "\n",
    "# Add suffixes to variable names so it is clear which table the data is coming from when merged (except for datetime_key)\n",
    "df_wind = df_wind.add_suffix('_wind').rename(columns={'datetime_key_wind': 'datetime_key'})\n",
    "df_load = df_load.add_suffix('_load').rename(columns={'datetime_key_load': 'datetime_key'})\n",
    "df_line_rating = df_line_rating.add_suffix('_line').rename(columns={'datetime_key_line': 'datetime_key'})\n",
    "\n",
    "df_wind.head(2)"
   ]
  },
  {
   "cell_type": "code",
   "execution_count": 13,
   "id": "4675e56f-1728-4442-9081-b20c82051a3f",
   "metadata": {},
   "outputs": [
    {
     "data": {
      "text/html": [
       "<div>\n",
       "<style scoped>\n",
       "    .dataframe tbody tr th:only-of-type {\n",
       "        vertical-align: middle;\n",
       "    }\n",
       "\n",
       "    .dataframe tbody tr th {\n",
       "        vertical-align: top;\n",
       "    }\n",
       "\n",
       "    .dataframe thead th {\n",
       "        text-align: right;\n",
       "    }\n",
       "</style>\n",
       "<table border=\"1\" class=\"dataframe\">\n",
       "  <thead>\n",
       "    <tr style=\"text-align: right;\">\n",
       "      <th></th>\n",
       "      <th>date_load</th>\n",
       "      <th>hour_beginning_load</th>\n",
       "      <th>coast_load</th>\n",
       "      <th>east_load</th>\n",
       "      <th>farwest_load</th>\n",
       "      <th>north_load</th>\n",
       "      <th>northcentral_load</th>\n",
       "      <th>southcentral_load</th>\n",
       "      <th>southern_load</th>\n",
       "      <th>west_load</th>\n",
       "      <th>all_load</th>\n",
       "      <th>label_load</th>\n",
       "      <th>datetime_key</th>\n",
       "    </tr>\n",
       "  </thead>\n",
       "  <tbody>\n",
       "    <tr>\n",
       "      <th>0</th>\n",
       "      <td>2019-04-05</td>\n",
       "      <td>0</td>\n",
       "      <td>9695.17</td>\n",
       "      <td>1210.05</td>\n",
       "      <td>2976.90</td>\n",
       "      <td>763.80</td>\n",
       "      <td>9192.58</td>\n",
       "      <td>5191.90</td>\n",
       "      <td>2597.92</td>\n",
       "      <td>1238.97</td>\n",
       "      <td>32867.29</td>\n",
       "      <td>actual</td>\n",
       "      <td>2019-04-05_00</td>\n",
       "    </tr>\n",
       "    <tr>\n",
       "      <th>1</th>\n",
       "      <td>2019-04-05</td>\n",
       "      <td>1</td>\n",
       "      <td>9281.53</td>\n",
       "      <td>1161.04</td>\n",
       "      <td>2977.81</td>\n",
       "      <td>735.19</td>\n",
       "      <td>8682.21</td>\n",
       "      <td>4799.37</td>\n",
       "      <td>2439.54</td>\n",
       "      <td>1184.93</td>\n",
       "      <td>31261.60</td>\n",
       "      <td>actual</td>\n",
       "      <td>2019-04-05_01</td>\n",
       "    </tr>\n",
       "  </tbody>\n",
       "</table>\n",
       "</div>"
      ],
      "text/plain": [
       "   date_load  hour_beginning_load  coast_load  east_load  farwest_load  \\\n",
       "0 2019-04-05                    0     9695.17    1210.05       2976.90   \n",
       "1 2019-04-05                    1     9281.53    1161.04       2977.81   \n",
       "\n",
       "   north_load  northcentral_load  southcentral_load  southern_load  west_load  \\\n",
       "0      763.80            9192.58            5191.90        2597.92    1238.97   \n",
       "1      735.19            8682.21            4799.37        2439.54    1184.93   \n",
       "\n",
       "   all_load label_load   datetime_key  \n",
       "0  32867.29     actual  2019-04-05_00  \n",
       "1  31261.60     actual  2019-04-05_01  "
      ]
     },
     "execution_count": 13,
     "metadata": {},
     "output_type": "execute_result"
    }
   ],
   "source": [
    "df_load.head(2)"
   ]
  },
  {
   "cell_type": "code",
   "execution_count": 15,
   "id": "8891c251-1868-4e03-9fad-4cea9477ab31",
   "metadata": {},
   "outputs": [
    {
     "data": {
      "text/html": [
       "<div>\n",
       "<style scoped>\n",
       "    .dataframe tbody tr th:only-of-type {\n",
       "        vertical-align: middle;\n",
       "    }\n",
       "\n",
       "    .dataframe tbody tr th {\n",
       "        vertical-align: top;\n",
       "    }\n",
       "\n",
       "    .dataframe thead th {\n",
       "        text-align: right;\n",
       "    }\n",
       "</style>\n",
       "<table border=\"1\" class=\"dataframe\">\n",
       "  <thead>\n",
       "    <tr style=\"text-align: right;\">\n",
       "      <th></th>\n",
       "      <th>date</th>\n",
       "      <th>hour_beginning</th>\n",
       "      <th>contract_value</th>\n",
       "      <th>label</th>\n",
       "      <th>datetime_key</th>\n",
       "      <th>date_line</th>\n",
       "      <th>hour_beginning_line</th>\n",
       "      <th>VALLEY_line</th>\n",
       "      <th>BEARKAT_line</th>\n",
       "      <th>TREADWELL_line</th>\n",
       "      <th>...</th>\n",
       "      <th>lz_north_wind</th>\n",
       "      <th>lz_south_houston_wind</th>\n",
       "      <th>lz_west_wind</th>\n",
       "      <th>north_wind</th>\n",
       "      <th>panhandle_wind</th>\n",
       "      <th>south_wind</th>\n",
       "      <th>south_houston_wind</th>\n",
       "      <th>west_wind</th>\n",
       "      <th>west_north_wind</th>\n",
       "      <th>all_wind</th>\n",
       "    </tr>\n",
       "  </thead>\n",
       "  <tbody>\n",
       "    <tr>\n",
       "      <th>0</th>\n",
       "      <td>2019-04-05</td>\n",
       "      <td>0</td>\n",
       "      <td>-0.0350</td>\n",
       "      <td>actual</td>\n",
       "      <td>2019-04-05_00</td>\n",
       "      <td>2019-04-05</td>\n",
       "      <td>0</td>\n",
       "      <td>2556.0</td>\n",
       "      <td>NaN</td>\n",
       "      <td>9999</td>\n",
       "      <td>...</td>\n",
       "      <td>366.14</td>\n",
       "      <td>1138.44</td>\n",
       "      <td>7780.36</td>\n",
       "      <td>400.56</td>\n",
       "      <td>3301.54</td>\n",
       "      <td>1011.69</td>\n",
       "      <td>1138.44</td>\n",
       "      <td>4385.44</td>\n",
       "      <td>8146.50</td>\n",
       "      <td>9284.94</td>\n",
       "    </tr>\n",
       "    <tr>\n",
       "      <th>1</th>\n",
       "      <td>2019-04-05</td>\n",
       "      <td>1</td>\n",
       "      <td>0.1325</td>\n",
       "      <td>actual</td>\n",
       "      <td>2019-04-05_01</td>\n",
       "      <td>2019-04-05</td>\n",
       "      <td>1</td>\n",
       "      <td>2529.0</td>\n",
       "      <td>NaN</td>\n",
       "      <td>9999</td>\n",
       "      <td>...</td>\n",
       "      <td>409.77</td>\n",
       "      <td>1270.77</td>\n",
       "      <td>8150.21</td>\n",
       "      <td>451.02</td>\n",
       "      <td>3252.51</td>\n",
       "      <td>1160.07</td>\n",
       "      <td>1270.77</td>\n",
       "      <td>4844.66</td>\n",
       "      <td>8559.98</td>\n",
       "      <td>9830.75</td>\n",
       "    </tr>\n",
       "  </tbody>\n",
       "</table>\n",
       "<p>2 rows × 39 columns</p>\n",
       "</div>"
      ],
      "text/plain": [
       "        date  hour_beginning  contract_value   label   datetime_key  \\\n",
       "0 2019-04-05               0         -0.0350  actual  2019-04-05_00   \n",
       "1 2019-04-05               1          0.1325  actual  2019-04-05_01   \n",
       "\n",
       "   date_line  hour_beginning_line  VALLEY_line  BEARKAT_line  TREADWELL_line  \\\n",
       "0 2019-04-05                    0       2556.0           NaN            9999   \n",
       "1 2019-04-05                    1       2529.0           NaN            9999   \n",
       "\n",
       "   ...  lz_north_wind  lz_south_houston_wind  lz_west_wind north_wind  \\\n",
       "0  ...         366.14                1138.44       7780.36     400.56   \n",
       "1  ...         409.77                1270.77       8150.21     451.02   \n",
       "\n",
       "  panhandle_wind  south_wind  south_houston_wind  west_wind  west_north_wind  \\\n",
       "0        3301.54     1011.69             1138.44    4385.44          8146.50   \n",
       "1        3252.51     1160.07             1270.77    4844.66          8559.98   \n",
       "\n",
       "   all_wind  \n",
       "0   9284.94  \n",
       "1   9830.75  \n",
       "\n",
       "[2 rows x 39 columns]"
      ]
     },
     "execution_count": 15,
     "metadata": {},
     "output_type": "execute_result"
    }
   ],
   "source": [
    "# Merge all datasets on the datetime_key\n",
    "df = df_contract.merge(df_line_rating, on='datetime_key')\n",
    "df = df.merge(df_load, on='datetime_key')\n",
    "df = df.merge(df_wind, on='datetime_key')\n",
    "\n",
    "df.head(2)"
   ]
  },
  {
   "cell_type": "code",
   "execution_count": 17,
   "id": "1e97160b-fa7a-439a-bfd8-631be3bc1c4c",
   "metadata": {},
   "outputs": [
    {
     "name": "stdout",
     "output_type": "stream",
     "text": [
      "Index(['date', 'hour_beginning', 'contract_value', 'label', 'datetime_key',\n",
      "       'VALLEY_line', 'BEARKAT_line', 'TREADWELL_line', 'MCCAMEY_line',\n",
      "       'NORTH.TO.HOUSTON_line', 'PANHANDLE_line', 'coast_load', 'east_load',\n",
      "       'farwest_load', 'north_load', 'northcentral_load', 'southcentral_load',\n",
      "       'southern_load', 'west_load', 'all_load', 'coastal_wind',\n",
      "       'lz_north_wind', 'lz_south_houston_wind', 'lz_west_wind', 'north_wind',\n",
      "       'panhandle_wind', 'south_wind', 'south_houston_wind', 'west_wind',\n",
      "       'west_north_wind', 'all_wind'],\n",
      "      dtype='object')\n"
     ]
    }
   ],
   "source": [
    "# drop redundant columns\n",
    "df.drop(['date_line', 'hour_beginning_line', 'label_line', 'date_load', 'hour_beginning_load', 'label_load', 'date_wind',\n",
    "        'hour_beginning_wind'], axis=1, inplace=True)\n",
    "print(df.columns)"
   ]
  },
  {
   "cell_type": "markdown",
   "id": "59c94109-5d0c-4a13-ba50-a6cc63808c94",
   "metadata": {},
   "source": [
    "### Split the merged dataset into actual/forecast values on label column"
   ]
  },
  {
   "cell_type": "code",
   "execution_count": 19,
   "id": "1362d8ac-9c2c-4750-80f1-b51c543d6fc9",
   "metadata": {},
   "outputs": [
    {
     "data": {
      "text/html": [
       "<div>\n",
       "<style scoped>\n",
       "    .dataframe tbody tr th:only-of-type {\n",
       "        vertical-align: middle;\n",
       "    }\n",
       "\n",
       "    .dataframe tbody tr th {\n",
       "        vertical-align: top;\n",
       "    }\n",
       "\n",
       "    .dataframe thead th {\n",
       "        text-align: right;\n",
       "    }\n",
       "</style>\n",
       "<table border=\"1\" class=\"dataframe\">\n",
       "  <thead>\n",
       "    <tr style=\"text-align: right;\">\n",
       "      <th></th>\n",
       "      <th>date</th>\n",
       "      <th>hour_beginning</th>\n",
       "      <th>contract_value</th>\n",
       "      <th>label</th>\n",
       "      <th>datetime_key</th>\n",
       "      <th>VALLEY_line</th>\n",
       "      <th>BEARKAT_line</th>\n",
       "      <th>TREADWELL_line</th>\n",
       "      <th>MCCAMEY_line</th>\n",
       "      <th>NORTH.TO.HOUSTON_line</th>\n",
       "      <th>...</th>\n",
       "      <th>lz_north_wind</th>\n",
       "      <th>lz_south_houston_wind</th>\n",
       "      <th>lz_west_wind</th>\n",
       "      <th>north_wind</th>\n",
       "      <th>panhandle_wind</th>\n",
       "      <th>south_wind</th>\n",
       "      <th>south_houston_wind</th>\n",
       "      <th>west_wind</th>\n",
       "      <th>west_north_wind</th>\n",
       "      <th>all_wind</th>\n",
       "    </tr>\n",
       "  </thead>\n",
       "  <tbody>\n",
       "    <tr>\n",
       "      <th>22576</th>\n",
       "      <td>2021-10-31</td>\n",
       "      <td>22</td>\n",
       "      <td>0.0</td>\n",
       "      <td>actual</td>\n",
       "      <td>2021-10-31_22</td>\n",
       "      <td>NaN</td>\n",
       "      <td>654.0</td>\n",
       "      <td>9999</td>\n",
       "      <td>3253</td>\n",
       "      <td>5711</td>\n",
       "      <td>...</td>\n",
       "      <td>1057.98</td>\n",
       "      <td>3276.88</td>\n",
       "      <td>9396.68</td>\n",
       "      <td>1117.04</td>\n",
       "      <td>1428.03</td>\n",
       "      <td>2421.38</td>\n",
       "      <td>3276.88</td>\n",
       "      <td>7726.55</td>\n",
       "      <td>10454.66</td>\n",
       "      <td>13731.54</td>\n",
       "    </tr>\n",
       "    <tr>\n",
       "      <th>22577</th>\n",
       "      <td>2021-10-31</td>\n",
       "      <td>23</td>\n",
       "      <td>0.0</td>\n",
       "      <td>actual</td>\n",
       "      <td>2021-10-31_23</td>\n",
       "      <td>NaN</td>\n",
       "      <td>659.0</td>\n",
       "      <td>9999</td>\n",
       "      <td>3253</td>\n",
       "      <td>5682</td>\n",
       "      <td>...</td>\n",
       "      <td>937.92</td>\n",
       "      <td>3094.16</td>\n",
       "      <td>8898.84</td>\n",
       "      <td>1000.56</td>\n",
       "      <td>1380.01</td>\n",
       "      <td>2411.09</td>\n",
       "      <td>3094.16</td>\n",
       "      <td>7283.71</td>\n",
       "      <td>9836.76</td>\n",
       "      <td>12930.92</td>\n",
       "    </tr>\n",
       "  </tbody>\n",
       "</table>\n",
       "<p>2 rows × 31 columns</p>\n",
       "</div>"
      ],
      "text/plain": [
       "            date  hour_beginning  contract_value   label   datetime_key  \\\n",
       "22576 2021-10-31              22             0.0  actual  2021-10-31_22   \n",
       "22577 2021-10-31              23             0.0  actual  2021-10-31_23   \n",
       "\n",
       "       VALLEY_line  BEARKAT_line  TREADWELL_line  MCCAMEY_line  \\\n",
       "22576          NaN         654.0            9999          3253   \n",
       "22577          NaN         659.0            9999          3253   \n",
       "\n",
       "       NORTH.TO.HOUSTON_line  ...  lz_north_wind  lz_south_houston_wind  \\\n",
       "22576                   5711  ...        1057.98                3276.88   \n",
       "22577                   5682  ...         937.92                3094.16   \n",
       "\n",
       "       lz_west_wind  north_wind  panhandle_wind  south_wind  \\\n",
       "22576       9396.68     1117.04         1428.03     2421.38   \n",
       "22577       8898.84     1000.56         1380.01     2411.09   \n",
       "\n",
       "       south_houston_wind  west_wind  west_north_wind  all_wind  \n",
       "22576             3276.88    7726.55         10454.66  13731.54  \n",
       "22577             3094.16    7283.71          9836.76  12930.92  \n",
       "\n",
       "[2 rows x 31 columns]"
      ]
     },
     "execution_count": 19,
     "metadata": {},
     "output_type": "execute_result"
    }
   ],
   "source": [
    "df_actual = df[df['label'] == 'actual'].copy()\n",
    "df_forecast = df[df['label'] == 'forecast'].copy()\n",
    "\n",
    "df_actual.tail(2)"
   ]
  },
  {
   "cell_type": "code",
   "execution_count": 21,
   "id": "0025093e-71fd-43b7-8c72-d7ab7d806fc9",
   "metadata": {},
   "outputs": [
    {
     "data": {
      "text/html": [
       "<div>\n",
       "<style scoped>\n",
       "    .dataframe tbody tr th:only-of-type {\n",
       "        vertical-align: middle;\n",
       "    }\n",
       "\n",
       "    .dataframe tbody tr th {\n",
       "        vertical-align: top;\n",
       "    }\n",
       "\n",
       "    .dataframe thead th {\n",
       "        text-align: right;\n",
       "    }\n",
       "</style>\n",
       "<table border=\"1\" class=\"dataframe\">\n",
       "  <thead>\n",
       "    <tr style=\"text-align: right;\">\n",
       "      <th></th>\n",
       "      <th>date</th>\n",
       "      <th>hour_beginning</th>\n",
       "      <th>contract_value</th>\n",
       "      <th>label</th>\n",
       "      <th>datetime_key</th>\n",
       "      <th>VALLEY_line</th>\n",
       "      <th>BEARKAT_line</th>\n",
       "      <th>TREADWELL_line</th>\n",
       "      <th>MCCAMEY_line</th>\n",
       "      <th>NORTH.TO.HOUSTON_line</th>\n",
       "      <th>...</th>\n",
       "      <th>lz_north_wind</th>\n",
       "      <th>lz_south_houston_wind</th>\n",
       "      <th>lz_west_wind</th>\n",
       "      <th>north_wind</th>\n",
       "      <th>panhandle_wind</th>\n",
       "      <th>south_wind</th>\n",
       "      <th>south_houston_wind</th>\n",
       "      <th>west_wind</th>\n",
       "      <th>west_north_wind</th>\n",
       "      <th>all_wind</th>\n",
       "    </tr>\n",
       "  </thead>\n",
       "  <tbody>\n",
       "    <tr>\n",
       "      <th>22578</th>\n",
       "      <td>2021-11-01</td>\n",
       "      <td>0</td>\n",
       "      <td>NaN</td>\n",
       "      <td>forecast</td>\n",
       "      <td>2021-11-01_00</td>\n",
       "      <td>NaN</td>\n",
       "      <td>661.0</td>\n",
       "      <td>9999</td>\n",
       "      <td>3253</td>\n",
       "      <td>5549</td>\n",
       "      <td>...</td>\n",
       "      <td>786.37</td>\n",
       "      <td>2967.86</td>\n",
       "      <td>7468.45</td>\n",
       "      <td>836.26</td>\n",
       "      <td>1199.56</td>\n",
       "      <td>2324.25</td>\n",
       "      <td>2967.86</td>\n",
       "      <td>6065.57</td>\n",
       "      <td>8254.82</td>\n",
       "      <td>11222.67</td>\n",
       "    </tr>\n",
       "    <tr>\n",
       "      <th>22579</th>\n",
       "      <td>2021-11-01</td>\n",
       "      <td>1</td>\n",
       "      <td>NaN</td>\n",
       "      <td>forecast</td>\n",
       "      <td>2021-11-01_01</td>\n",
       "      <td>NaN</td>\n",
       "      <td>664.0</td>\n",
       "      <td>9999</td>\n",
       "      <td>3253</td>\n",
       "      <td>5439</td>\n",
       "      <td>...</td>\n",
       "      <td>764.25</td>\n",
       "      <td>2925.73</td>\n",
       "      <td>6536.17</td>\n",
       "      <td>812.81</td>\n",
       "      <td>963.92</td>\n",
       "      <td>2298.69</td>\n",
       "      <td>2925.73</td>\n",
       "      <td>5354.84</td>\n",
       "      <td>7300.42</td>\n",
       "      <td>10226.15</td>\n",
       "    </tr>\n",
       "  </tbody>\n",
       "</table>\n",
       "<p>2 rows × 31 columns</p>\n",
       "</div>"
      ],
      "text/plain": [
       "            date  hour_beginning  contract_value     label   datetime_key  \\\n",
       "22578 2021-11-01               0             NaN  forecast  2021-11-01_00   \n",
       "22579 2021-11-01               1             NaN  forecast  2021-11-01_01   \n",
       "\n",
       "       VALLEY_line  BEARKAT_line  TREADWELL_line  MCCAMEY_line  \\\n",
       "22578          NaN         661.0            9999          3253   \n",
       "22579          NaN         664.0            9999          3253   \n",
       "\n",
       "       NORTH.TO.HOUSTON_line  ...  lz_north_wind  lz_south_houston_wind  \\\n",
       "22578                   5549  ...         786.37                2967.86   \n",
       "22579                   5439  ...         764.25                2925.73   \n",
       "\n",
       "       lz_west_wind  north_wind  panhandle_wind  south_wind  \\\n",
       "22578       7468.45      836.26         1199.56     2324.25   \n",
       "22579       6536.17      812.81          963.92     2298.69   \n",
       "\n",
       "       south_houston_wind  west_wind  west_north_wind  all_wind  \n",
       "22578             2967.86    6065.57          8254.82  11222.67  \n",
       "22579             2925.73    5354.84          7300.42  10226.15  \n",
       "\n",
       "[2 rows x 31 columns]"
      ]
     },
     "execution_count": 21,
     "metadata": {},
     "output_type": "execute_result"
    }
   ],
   "source": [
    "df_forecast.head(2)"
   ]
  },
  {
   "cell_type": "markdown",
   "id": "30ffb18b-f25e-4a81-b309-a67f208e5f5a",
   "metadata": {},
   "source": [
    "### Check if there's a problem with NA values"
   ]
  },
  {
   "cell_type": "code",
   "execution_count": 23,
   "id": "8c350899-c33a-4264-9603-f6d79976cda0",
   "metadata": {},
   "outputs": [
    {
     "name": "stdout",
     "output_type": "stream",
     "text": [
      "date                        0\n",
      "hour_beginning              0\n",
      "contract_value              0\n",
      "label                       0\n",
      "datetime_key                0\n",
      "VALLEY_line              8661\n",
      "BEARKAT_line             5496\n",
      "TREADWELL_line              0\n",
      "MCCAMEY_line                0\n",
      "NORTH.TO.HOUSTON_line       0\n",
      "PANHANDLE_line              0\n",
      "coast_load                  0\n",
      "east_load                   0\n",
      "farwest_load                0\n",
      "north_load                  0\n",
      "northcentral_load           0\n",
      "southcentral_load           0\n",
      "southern_load               0\n",
      "west_load                   0\n",
      "all_load                    0\n",
      "coastal_wind                0\n",
      "lz_north_wind               0\n",
      "lz_south_houston_wind       0\n",
      "lz_west_wind                0\n",
      "north_wind                  0\n",
      "panhandle_wind              0\n",
      "south_wind                  0\n",
      "south_houston_wind          0\n",
      "west_wind                   0\n",
      "west_north_wind             0\n",
      "all_wind                    0\n",
      "dtype: int64\n"
     ]
    }
   ],
   "source": [
    "na_counts = df_actual.isna().sum()\n",
    "print(na_counts)"
   ]
  },
  {
   "cell_type": "code",
   "execution_count": 25,
   "id": "a23a3a89-12bd-461c-a749-42518c4c3d0f",
   "metadata": {},
   "outputs": [
    {
     "name": "stdout",
     "output_type": "stream",
     "text": [
      "date                       0\n",
      "hour_beginning             0\n",
      "contract_value           720\n",
      "label                      0\n",
      "datetime_key               0\n",
      "VALLEY_line              720\n",
      "BEARKAT_line               0\n",
      "TREADWELL_line             0\n",
      "MCCAMEY_line               0\n",
      "NORTH.TO.HOUSTON_line      0\n",
      "PANHANDLE_line             0\n",
      "coast_load                 0\n",
      "east_load                  0\n",
      "farwest_load               0\n",
      "north_load                 0\n",
      "northcentral_load          0\n",
      "southcentral_load          0\n",
      "southern_load              0\n",
      "west_load                  0\n",
      "all_load                   0\n",
      "coastal_wind               0\n",
      "lz_north_wind              0\n",
      "lz_south_houston_wind      0\n",
      "lz_west_wind               0\n",
      "north_wind                 0\n",
      "panhandle_wind             0\n",
      "south_wind                 0\n",
      "south_houston_wind         0\n",
      "west_wind                  0\n",
      "west_north_wind            0\n",
      "all_wind                   0\n",
      "dtype: int64\n"
     ]
    }
   ],
   "source": [
    "na_counts = df_forecast.isna().sum()\n",
    "print(na_counts)"
   ]
  },
  {
   "cell_type": "markdown",
   "id": "ebc7384d-1cff-45ae-a18c-b6ab986bd08d",
   "metadata": {},
   "source": [
    "With the number of VALLEY_line and BEARKAT_line values that are blank (41% and 24% respectively), it makes the most sense to completely drop those columns. With more time, it would be interesting to see if a supervised learning model like ensembles would deal with it better or if we could improve results by imputing missing values. I also need to drop a few variables that won't be used in the regression."
   ]
  },
  {
   "cell_type": "code",
   "execution_count": 27,
   "id": "0d926e2f-4a38-4a12-91b3-88d3b5837f89",
   "metadata": {},
   "outputs": [],
   "source": [
    "df_actual.drop(['date', 'hour_beginning', 'label', 'datetime_key', 'VALLEY_line', 'BEARKAT_line'], axis=1, inplace=True)"
   ]
  },
  {
   "cell_type": "markdown",
   "id": "a0c3477f-76a8-4e3b-98da-0691d5b1d662",
   "metadata": {},
   "source": [
    "### Look at variable distributions, use transformations where necessary"
   ]
  },
  {
   "cell_type": "code",
   "execution_count": 29,
   "id": "b78e035d-c505-4e35-b08d-675156129f93",
   "metadata": {},
   "outputs": [
    {
     "data": {
      "image/png": "[encoded data removed]",
      "text/plain": [
       "<Figure size 640x480 with 1 Axes>"
      ]
     },
     "metadata": {},
     "output_type": "display_data"
    }
   ],
   "source": [
    "df_actual.boxplot(rot=90)\n",
    "plt.show()"
   ]
  },
  {
   "cell_type": "markdown",
   "id": "524aa177-4feb-44eb-9e96-b8d7626e49c7",
   "metadata": {},
   "source": [
    "It actually looks like a fairly normal distribution of variables for the most part. Maybe something going on with right skew outliers in some of the load variables, and the line distributions are non normal (makes sense, line is either at full capacity or significantly lower). With more time, I'd be interested in adding log (or arsinh, if there are zero values) as additional features but for now will continue without any transformations. "
   ]
  },
  {
   "cell_type": "markdown",
   "id": "6123cb4d-7c0a-4b8f-8632-e72f82ae473e",
   "metadata": {},
   "source": [
    "### 80-20 train test split on the actual values"
   ]
  },
  {
   "cell_type": "code",
   "execution_count": 31,
   "id": "9ba42598-5d15-401a-9318-883692d66c76",
   "metadata": {},
   "outputs": [
    {
     "name": "stdout",
     "output_type": "stream",
     "text": [
      "training set: 18062, test set: 4516\n"
     ]
    }
   ],
   "source": [
    "from sklearn.model_selection import train_test_split\n",
    "train, test = train_test_split(df_actual, test_size=0.2, random_state=42)\n",
    "print(\"training set: \" + str(len(train)) + \", test set: \" + str(len(test)))"
   ]
  },
  {
   "cell_type": "markdown",
   "id": "77eaa261-e211-45e0-8c74-29459b0fcc76",
   "metadata": {},
   "source": [
    "### Train the model and evaluate on test set"
   ]
  },
  {
   "cell_type": "code",
   "execution_count": 320,
   "id": "ddd9fc70-5341-41e2-8846-795967bcbb56",
   "metadata": {},
   "outputs": [
    {
     "name": "stderr",
     "output_type": "stream",
     "text": [
      "/opt/anaconda3/lib/python3.12/site-packages/sklearn/linear_model/_coordinate_descent.py:678: ConvergenceWarning: Objective did not converge. You might want to increase the number of iterations, check the scale of the features or consider increasing regularisation. Duality gap: 4.654e+05, tolerance: 6.166e+02\n",
      "  model = cd_fast.enet_coordinate_descent(\n"
     ]
    },
    {
     "data": {
      "text/plain": [
       "0.27072558757373966"
      ]
     },
     "execution_count": 320,
     "metadata": {},
     "output_type": "execute_result"
    }
   ],
   "source": [
    "from sklearn.linear_model import Lasso\n",
    "from sklearn.metrics import r2_score\n",
    "\n",
    "X_train = train.drop(columns=['contract_value'])\n",
    "y_train = train['contract_value']\n",
    "X_test = test.drop(columns=['contract_value'])\n",
    "y_test = test['contract_value']\n",
    "\n",
    "# Initialize and fit the model\n",
    "lasso_model = Lasso(alpha=1.0, warm_start = True, fit_intercept = True, max_iter=50000)\n",
    "lasso_model.fit(X_train, y_train)\n",
    "\n",
    "# Predict on the test set\n",
    "y_hat = lasso_model.predict(X_test)\n",
    "\n",
    "# Evaluate using R^2\n",
    "r2 = r2_score(y_test, y_hat)\n",
    "r2"
   ]
  },
  {
   "cell_type": "code",
   "execution_count": 322,
   "id": "d049d56e-c0cd-43b6-aa5b-4e78ed93be62",
   "metadata": {},
   "outputs": [
    {
     "name": "stdout",
     "output_type": "stream",
     "text": [
      "TREADWELL_line           0.000164\n",
      "MCCAMEY_line            -0.000030\n",
      "NORTH.TO.HOUSTON_line   -0.001399\n",
      "PANHANDLE_line          -0.004662\n",
      "coast_load               0.000000\n",
      "east_load                0.016840\n",
      "farwest_load             0.001766\n",
      "north_load               0.000201\n",
      "northcentral_load       -0.000300\n",
      "southcentral_load        0.000078\n",
      "southern_load            0.004448\n",
      "west_load               -0.004596\n",
      "all_load                -0.000769\n",
      "coastal_wind             0.004175\n",
      "lz_north_wind            0.000000\n",
      "lz_south_houston_wind   -0.002021\n",
      "lz_west_wind             0.001302\n",
      "north_wind              -0.006791\n",
      "panhandle_wind           0.001697\n",
      "south_wind               0.000919\n",
      "south_houston_wind      -0.001245\n",
      "west_wind               -0.003112\n",
      "west_north_wind          0.003243\n",
      "all_wind                -0.000000\n",
      "dtype: float64\n"
     ]
    }
   ],
   "source": [
    "coefficients = pd.Series(lasso_model.coef_, index=X_train.columns)\n",
    "print(coefficients)"
   ]
  },
  {
   "cell_type": "markdown",
   "id": "dd336d82-fe3e-4211-b563-81b89469a542",
   "metadata": {},
   "source": [
    "The Lasso constraint only zeroed-out three of the feature variables. Because a number of these variables are likely not great predictors, I'm going to play around with a higher alpha value to increase regularization."
   ]
  },
  {
   "cell_type": "code",
   "execution_count": 324,
   "id": "1a2a449d-bbc4-4401-9544-1fc6bcfb4305",
   "metadata": {},
   "outputs": [
    {
     "data": {
      "text/plain": [
       "0.2701533477333956"
      ]
     },
     "execution_count": 324,
     "metadata": {},
     "output_type": "execute_result"
    }
   ],
   "source": [
    "# Initialize and fit the model\n",
    "lasso_model = Lasso(alpha=15, warm_start = True, fit_intercept = True, max_iter=20000)\n",
    "lasso_model.fit(X_train, y_train)\n",
    "\n",
    "# Predict on the test set\n",
    "y_hat = lasso_model.predict(X_test)\n",
    "\n",
    "# Evaluate using R^2\n",
    "r2 = r2_score(y_test, y_hat)\n",
    "r2"
   ]
  },
  {
   "cell_type": "code",
   "execution_count": 326,
   "id": "e054cc57-db69-457f-a4cd-b81ed8693544",
   "metadata": {},
   "outputs": [
    {
     "name": "stdout",
     "output_type": "stream",
     "text": [
      "TREADWELL_line           0.000168\n",
      "MCCAMEY_line            -0.000024\n",
      "NORTH.TO.HOUSTON_line   -0.001411\n",
      "PANHANDLE_line          -0.004665\n",
      "coast_load              -0.000237\n",
      "east_load                0.014964\n",
      "farwest_load             0.001245\n",
      "north_load               0.000000\n",
      "northcentral_load       -0.000641\n",
      "southcentral_load       -0.000000\n",
      "southern_load            0.003521\n",
      "west_load               -0.004267\n",
      "all_load                -0.000413\n",
      "coastal_wind             0.003195\n",
      "lz_north_wind           -0.000000\n",
      "lz_south_houston_wind   -0.001286\n",
      "lz_west_wind             0.001485\n",
      "north_wind              -0.003030\n",
      "panhandle_wind           0.004639\n",
      "south_wind              -0.000000\n",
      "south_houston_wind      -0.001035\n",
      "west_wind               -0.000027\n",
      "west_north_wind          0.000000\n",
      "all_wind                -0.000000\n",
      "dtype: float64\n"
     ]
    }
   ],
   "source": [
    "coefficients = pd.Series(lasso_model.coef_, index=X_train.columns)\n",
    "print(coefficients)"
   ]
  },
  {
   "cell_type": "markdown",
   "id": "becfac90-2487-4330-8002-c0d2da6d294e",
   "metadata": {},
   "source": [
    "Playing around with alpha removed additional feature variables, but did not improve model performance based on r^2 on the test set. I'd also like to test out a random forests regressor."
   ]
  },
  {
   "cell_type": "code",
   "execution_count": 329,
   "id": "94b50527-fcab-4f35-9d6e-aba9c1031bac",
   "metadata": {},
   "outputs": [
    {
     "data": {
      "text/plain": [
       "0.4919727784506084"
      ]
     },
     "execution_count": 329,
     "metadata": {},
     "output_type": "execute_result"
    }
   ],
   "source": [
    "from sklearn.ensemble import RandomForestRegressor\n",
    "\n",
    "# Initialize and fit the model\n",
    "model = RandomForestRegressor() \n",
    "rf = model.fit(X_train, y_train)\n",
    "\n",
    "# Predict for test set\n",
    "y_hat = rf.predict(X_test)\n",
    "\n",
    "# Evaluate using R^2\n",
    "r2 = r2_score(y_test, y_hat)\n",
    "r2"
   ]
  },
  {
   "cell_type": "markdown",
   "id": "c17afc3d-ba73-4496-abec-3fc20ca923b7",
   "metadata": {},
   "source": [
    "Much better model performance on the test set. One tradeoff here is the results are less interpretable. I'll take it though!"
   ]
  },
  {
   "cell_type": "markdown",
   "id": "32b7d913-e2dd-4d0d-91f3-9cbb93e495a7",
   "metadata": {},
   "source": [
    "### Look at feature importances in the model"
   ]
  },
  {
   "cell_type": "code",
   "execution_count": 376,
   "id": "a44cfd41-4d68-45e5-af0d-a5a30e632303",
   "metadata": {},
   "outputs": [
    {
     "data": {
      "image/png": "[encoded data removed]",
      "text/plain": [
       "<Figure size 640x480 with 1 Axes>"
      ]
     },
     "metadata": {},
     "output_type": "display_data"
    }
   ],
   "source": [
    "forest_importances = pd.Series(rf.feature_importances_, index=X_train.columns )\n",
    "ax = forest_importances.plot.bar()\n",
    "ax.set_ylabel(\"Mean decrease in impurity\")\n",
    "plt.show()"
   ]
  },
  {
   "cell_type": "markdown",
   "id": "47a7cef3-9344-451c-ac60-707f1412ea96",
   "metadata": {},
   "source": [
    "The panhandle variables showed the strongest correlation here, for both line rating and wind. The Texas Panhandle is a hotspot for wind energy development, so my guess is that this FTR contract is between a node in the panhandle and a load center to the South, perhaps DFW. If the wind is blowing hard in the panhandle, its possible that the panhandle line reaches capacity and results in grid congestion. This means that the locational prices around the constrained line diverge, possibly even flipping negative and incentivizing curtailment from panhandle wind turbines. This is consistent with a strong positive correlation between contract value and panhandle wind, and a negative correlation with the line rating (shown in the Lasso coefficients). "
   ]
  },
  {
   "cell_type": "markdown",
   "id": "43c41a05-46c6-48b3-bce8-e3293ff4f66b",
   "metadata": {},
   "source": [
    "### Forecast contract values for November"
   ]
  },
  {
   "cell_type": "code",
   "execution_count": 339,
   "id": "19cf21c8-c791-494e-9c67-ac475cfd4607",
   "metadata": {},
   "outputs": [],
   "source": [
    "forecast_features = df_forecast.drop(columns=['contract_value', 'date', 'hour_beginning', 'label', 'datetime_key', 'VALLEY_line', \n",
    "                                              'BEARKAT_line'])\n",
    "forecast_contract_values = rf.predict(forecast_features)"
   ]
  },
  {
   "cell_type": "code",
   "execution_count": 355,
   "id": "76e24d60-2cfb-4a97-966a-09986b36c085",
   "metadata": {},
   "outputs": [
    {
     "data": {
      "text/html": [
       "<div>\n",
       "<style scoped>\n",
       "    .dataframe tbody tr th:only-of-type {\n",
       "        vertical-align: middle;\n",
       "    }\n",
       "\n",
       "    .dataframe tbody tr th {\n",
       "        vertical-align: top;\n",
       "    }\n",
       "\n",
       "    .dataframe thead th {\n",
       "        text-align: right;\n",
       "    }\n",
       "</style>\n",
       "<table border=\"1\" class=\"dataframe\">\n",
       "  <thead>\n",
       "    <tr style=\"text-align: right;\">\n",
       "      <th></th>\n",
       "      <th>date</th>\n",
       "      <th>hour_beginning</th>\n",
       "      <th>contract_value</th>\n",
       "      <th>label</th>\n",
       "    </tr>\n",
       "  </thead>\n",
       "  <tbody>\n",
       "    <tr>\n",
       "      <th>22578</th>\n",
       "      <td>2021-11-01</td>\n",
       "      <td>0</td>\n",
       "      <td>17.322175</td>\n",
       "      <td>forecast</td>\n",
       "    </tr>\n",
       "    <tr>\n",
       "      <th>22579</th>\n",
       "      <td>2021-11-01</td>\n",
       "      <td>1</td>\n",
       "      <td>18.149800</td>\n",
       "      <td>forecast</td>\n",
       "    </tr>\n",
       "    <tr>\n",
       "      <th>22580</th>\n",
       "      <td>2021-11-01</td>\n",
       "      <td>2</td>\n",
       "      <td>24.572450</td>\n",
       "      <td>forecast</td>\n",
       "    </tr>\n",
       "    <tr>\n",
       "      <th>22581</th>\n",
       "      <td>2021-11-01</td>\n",
       "      <td>3</td>\n",
       "      <td>33.630325</td>\n",
       "      <td>forecast</td>\n",
       "    </tr>\n",
       "    <tr>\n",
       "      <th>22582</th>\n",
       "      <td>2021-11-01</td>\n",
       "      <td>4</td>\n",
       "      <td>30.941275</td>\n",
       "      <td>forecast</td>\n",
       "    </tr>\n",
       "  </tbody>\n",
       "</table>\n",
       "</div>"
      ],
      "text/plain": [
       "            date  hour_beginning  contract_value     label\n",
       "22578 2021-11-01               0       17.322175  forecast\n",
       "22579 2021-11-01               1       18.149800  forecast\n",
       "22580 2021-11-01               2       24.572450  forecast\n",
       "22581 2021-11-01               3       33.630325  forecast\n",
       "22582 2021-11-01               4       30.941275  forecast"
      ]
     },
     "execution_count": 355,
     "metadata": {},
     "output_type": "execute_result"
    }
   ],
   "source": [
    "df_forecast['contract_value'] = forecast_contract_values\n",
    "contract_forecast = df_forecast[['date', 'hour_beginning', 'contract_value', 'label']]\n",
    "contract_forecast.head()"
   ]
  },
  {
   "cell_type": "code",
   "execution_count": 357,
   "id": "484b0297-0d9e-47f9-8fb8-ddacbb427fec",
   "metadata": {},
   "outputs": [],
   "source": [
    "contract_forecast.to_csv('contract_forecast_Max_StClair.csv', index = False)"
   ]
  }
 ],
 "metadata": {
  "kernelspec": {
   "display_name": "Python 3 (ipykernel)",
   "language": "python",
   "name": "python3"
  },
  "language_info": {
   "codemirror_mode": {
    "name": "ipython",
    "version": 3
   },
   "file_extension": ".py",
   "mimetype": "text/x-python",
   "name": "python",
   "nbconvert_exporter": "python",
   "pygments_lexer": "ipython3",
   "version": "3.12.4"
  }
 },
 "nbformat": 4,
 "nbformat_minor": 5
}
